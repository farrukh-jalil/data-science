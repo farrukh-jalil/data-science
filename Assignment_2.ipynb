{
 "cells": [
  {
   "cell_type": "markdown",
   "metadata": {},
   "source": [
    "<h3>Q no 1:  Write a python program to find number of occurrences of given number in a list with out using built-in methods</h3>\n",
    "<h4>**1 generate a list of some random num which is repeated again and again</h4>\n",
    "<h4>**2 take user input any number</h4>\n",
    "<h4>**3 find the number of occurrences of that num in your list</h4>\n",
    "<h4>**4 print some message to user with that result</h4>"
   ]
  },
  {
   "cell_type": "code",
   "execution_count": 30,
   "metadata": {},
   "outputs": [
    {
     "data": {
      "text/plain": [
       "[6, 12, 11, 2, 10, 7, 12, 13, 15, 14, 7, 1, 14, 5, 13, 12, 11, 14, 6, 9, 8, 5]"
      ]
     },
     "execution_count": 30,
     "metadata": {},
     "output_type": "execute_result"
    }
   ],
   "source": [
    "import random\n",
    "num_list=[]\n",
    "for x in range(22):\n",
    "    num_list.append(random.randint(1,15))\n",
    "num_list"
   ]
  },
  {
   "cell_type": "code",
   "execution_count": 31,
   "metadata": {},
   "outputs": [
    {
     "name": "stdout",
     "output_type": "stream",
     "text": [
      "Enter any number in above list: 4\n",
      "The occurance of given number is 0\n"
     ]
    }
   ],
   "source": [
    "search_num=int(input(\"Enter any number in above list: \"))\n",
    "count_num=0\n",
    "for i in range(len(num_list)):\n",
    "    if(num_list[i]==search_num):\n",
    "        count_num+=1\n",
    "print(\"The occurance of given number is \"+str(count_num))"
   ]
  },
  {
   "cell_type": "markdown",
   "metadata": {},
   "source": [
    "<h3>Q no 2:   [\"www.zframez.com\", \"www.wikipedia.org\", \"www.asp.net\", \"www.abcd.in\"]\n",
    "<br/><br/><br/><br/><br/>\n",
    "Write a python program to print website suffixes (com , org , net ,in) from this list\n",
    "</h3>"
   ]
  },
  {
   "cell_type": "code",
   "execution_count": 32,
   "metadata": {},
   "outputs": [
    {
     "name": "stdout",
     "output_type": "stream",
     "text": [
      "com\n",
      "org\n",
      "net\n",
      "in\n"
     ]
    }
   ],
   "source": [
    "websites=[\"www.zframez.com\", \"www.wikipedia.org\", \"www.asp.net\", \"www.abcd.in\"] \n",
    "for cnt in range(len(websites)):\n",
    "    print(websites[cnt][websites[cnt].rindex(\".\")+1:])"
   ]
  },
  {
   "cell_type": "markdown",
   "metadata": {},
   "source": [
    "<h3> Q no 3 : Write a program which can compute the factorial of a given numbers.</h3>\n",
    "<br/>\n",
    "<br/>\n",
    "<h4>**1 first take user input any number</h4>\n",
    "<h4>**2 calculate factorial of that input and then print the result to user</h4>"
   ]
  },
  {
   "cell_type": "code",
   "execution_count": 33,
   "metadata": {},
   "outputs": [
    {
     "name": "stdout",
     "output_type": "stream",
     "text": [
      "Enter any nummber: 5\n",
      "The factorial of given number is 120\n"
     ]
    }
   ],
   "source": [
    "fact_num=int(input(\"Enter any nummber: \"))\n",
    "factorial=1\n",
    "for x in range(1,fact_num+1):\n",
    "    factorial*=x\n",
    "print(\"The factorial of given number is \"+str(factorial))  "
   ]
  },
  {
   "cell_type": "markdown",
   "metadata": {},
   "source": [
    "<h3>Q 4 (a) :  If you could invite anyone, living or deceased, to dinner, who\n",
    "would you invite? Make a list that includes at least three people you’d like to\n",
    "invite to dinner. Then use your list to print a message to each person, inviting\n",
    "them to dinner.</h3>"
   ]
  },
  {
   "cell_type": "code",
   "execution_count": 47,
   "metadata": {},
   "outputs": [],
   "source": [
    "guest=[\"Amir\",\"Adnan\",\"Ahmed\"]"
   ]
  },
  {
   "cell_type": "code",
   "execution_count": 35,
   "metadata": {},
   "outputs": [
    {
     "name": "stdout",
     "output_type": "stream",
     "text": [
      "Dear Amir, you are invited in a dinner today\n",
      "Dear Adnan, you are invited in a dinner today\n",
      "Dear Ahmed, you are invited in a dinner today\n"
     ]
    }
   ],
   "source": [
    "for x in range(len(guest)):\n",
    "    print(\"Dear \"+ guest[x] +\", you are invited in a dinner today\")"
   ]
  },
  {
   "cell_type": "code",
   "execution_count": 36,
   "metadata": {},
   "outputs": [
    {
     "name": "stdout",
     "output_type": "stream",
     "text": [
      "Dear Adnan the dinner is postpone today, we will inform you later. Sorry for inconvenience.\n"
     ]
    }
   ],
   "source": [
    "print(\"Dear \"+guest[1]+\" the dinner is postpone today, we will inform you later. Sorry for inconvenience.\")"
   ]
  },
  {
   "cell_type": "markdown",
   "metadata": {},
   "source": [
    "# <h3>Q 4 (b) : You just heard that one of your guests can’t make the\n",
    "dinner, so you need to send out a new set of invitations. You’ll have to think of\n",
    "someone else to invite.<br/></br><br/>\n",
    "•\t Start with your program from Q 4 (a). Add a print statement at the\n",
    "end of your program stating the name of the guest who can’t make it.<br/></br><br/>\n",
    "•\t Modify your list, replacing the name of the guest who can’t make it with\n",
    "the name of the new person you are inviting.<br/></br><br/>\n",
    "•\t Print a second set of invitation messages, one for each person who is still\n",
    "in your list.<br/></br><br/></h3>"
   ]
  },
  {
   "cell_type": "code",
   "execution_count": 48,
   "metadata": {},
   "outputs": [],
   "source": [
    "guest[1]=\"Ali\""
   ]
  },
  {
   "cell_type": "code",
   "execution_count": 38,
   "metadata": {},
   "outputs": [
    {
     "name": "stdout",
     "output_type": "stream",
     "text": [
      "Dear Amir, you are invited in a dinner today\n",
      "Dear Ali, you are invited in a dinner today\n",
      "Dear Ahmed, you are invited in a dinner today\n"
     ]
    }
   ],
   "source": [
    "for x in range(len(guest)):\n",
    "    print(\"Dear \"+ guest[x] +\", you are invited in a dinner today\")"
   ]
  },
  {
   "cell_type": "code",
   "execution_count": 39,
   "metadata": {},
   "outputs": [
    {
     "name": "stdout",
     "output_type": "stream",
     "text": [
      "Dear Amir, we found a bigger dinner table and there will be some new companions with you.\n",
      "Dear Ali, we found a bigger dinner table and there will be some new companions with you.\n",
      "Dear Ahmed, we found a bigger dinner table and there will be some new companions with you.\n"
     ]
    }
   ],
   "source": [
    "for x in range(len(guest)):\n",
    "    print(\"Dear \"+ guest[x] +\", we found a bigger dinner table and there will be some new companions with you.\")"
   ]
  },
  {
   "cell_type": "markdown",
   "metadata": {},
   "source": [
    "<h3>Q 4 (c) : You just found a bigger dinner table, so now more space is\n",
    "available. Think of three more guests to invite to dinner.<br/></br><br/>\n",
    "•\t Start with your program from Q 4 (a) and (b) Add a print\n",
    "statement to the end of your program informing people that you found a\n",
    "bigger dinner table.<br/></br><br/>\n",
    "•\t Use insert() to add one new guest to the beginning of your list.<br/></br><br/>\n",
    "•\t Use insert() to add one new guest to the middle of your list.<br/></br><br/>\n",
    "•\t Use append() to add one new guest to the end of your list.<br/></br><br/>\n",
    "•\t Print a new set of invitation messages, one for each person in your list.<br/></br><br/></h3>"
   ]
  },
  {
   "cell_type": "code",
   "execution_count": 49,
   "metadata": {},
   "outputs": [],
   "source": [
    "guest.insert(0,\"Gulzar\")\n",
    "guest.insert(int(len(guest)/2),\"Danyal\")\n",
    "guest.append(\"Furqan\")"
   ]
  },
  {
   "cell_type": "code",
   "execution_count": 50,
   "metadata": {},
   "outputs": [
    {
     "name": "stdout",
     "output_type": "stream",
     "text": [
      "Dear Gulzar, you are invited in a dinner today\n",
      "Dear Amir, you are invited in a dinner today\n",
      "Dear Danyal, you are invited in a dinner today\n",
      "Dear Ali, you are invited in a dinner today\n",
      "Dear Ahmed, you are invited in a dinner today\n",
      "Dear Furqan, you are invited in a dinner today\n"
     ]
    }
   ],
   "source": [
    "for x in range(len(guest)):\n",
    "    print(\"Dear \"+ guest[x] +\", you are invited in a dinner today\")"
   ]
  },
  {
   "cell_type": "markdown",
   "metadata": {},
   "source": [
    "<h5> Q 5 : Here you have some data in variable below, your task is to make a list of specific word Surah then print the list and length of list</h5>\n"
   ]
  },
  {
   "cell_type": "code",
   "execution_count": 52,
   "metadata": {},
   "outputs": [],
   "source": [
    "data = \"Sura I Who believe in the Unseen, Sura Are steadfast in prayer, And spend Sura out of what We Have provided for them;\"\n"
   ]
  },
  {
   "cell_type": "code",
   "execution_count": 59,
   "metadata": {},
   "outputs": [
    {
     "name": "stdout",
     "output_type": "stream",
     "text": [
      "['Sura', 'Sura', 'Sura']\n"
     ]
    }
   ],
   "source": [
    "data_list=[]\n",
    "counter=0\n",
    "for x in range(data.count(\"Sura\")):\n",
    "    data_list.append(\"Sura\")\n",
    "    counter+=1\n",
    "print(data_list)    "
   ]
  }
 ],
 "metadata": {
  "kernelspec": {
   "display_name": "Python 3",
   "language": "python",
   "name": "python3"
  },
  "language_info": {
   "codemirror_mode": {
    "name": "ipython",
    "version": 3
   },
   "file_extension": ".py",
   "mimetype": "text/x-python",
   "name": "python",
   "nbconvert_exporter": "python",
   "pygments_lexer": "ipython3",
   "version": "3.6.5"
  }
 },
 "nbformat": 4,
 "nbformat_minor": 2
}
